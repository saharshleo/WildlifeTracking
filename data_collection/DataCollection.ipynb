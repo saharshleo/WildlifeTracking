{
 "cells": [
  {
   "cell_type": "markdown",
   "metadata": {},
   "source": [
    "## Few definitions:\n",
    "1. __Study__: A particular scientific study stored on Movebank's database\n",
    "2. __Individual__: Used to refer to a particular animal (not species, a single unique animal). It has no existence without study\n",
    "3. __Event__: This refers to a particular log of location (latitude and longitude) of a particular individual. It has no existence without individual"
   ]
  },
  {
   "cell_type": "code",
   "execution_count": 19,
   "metadata": {},
   "outputs": [],
   "source": [
    "import os\n",
    "import csv\n",
    "import hashlib\n",
    "import io\n",
    "import pickle\n",
    "from pprint import pprint\n",
    "import pandas as pd\n",
    "import requests\n",
    "mbauth=(os.environ['mbuser'], os.environ['mbpwd'])"
   ]
  },
  {
   "cell_type": "markdown",
   "metadata": {},
   "source": [
    "### __callMovebankAPI__: Utility function to request something from Movebank API\n",
    "#### Parameters:\n",
    "1. `params`: Tuple of tuples specifying the contents of the request\n",
    "    * `entity-type`: Type of entity (database entity) to get records of. This can be 'study', 'individual', 'event', 'tag' et cetera.\n",
    "    * `study_id`: The id of the study to which the data requested belongs. Required for individuals and events\n",
    "    * Other parameters of the form `('paramName', paramValue)`\n",
    "\n",
    "#### Returns: \n",
    "String containing content of response to GET request"
   ]
  },
  {
   "cell_type": "code",
   "execution_count": 28,
   "metadata": {},
   "outputs": [],
   "source": [
    "def callMovebankAPI(params):\n",
    "    print('Requesting...', params)\n",
    "    try:\n",
    "        response = requests.get('https://www.movebank.org/movebank/service/direct-read', params = params, auth = mbauth, timeout=(3.05, 21))\n",
    "    except:\n",
    "        print(f'Exception occured for params:\\n{params}')\n",
    "        return 'ERR'\n",
    "    print('Request response:', response.url)\n",
    "    if response.status_code == 200:\n",
    "        if 'License Terms:' in str(response.content):\n",
    "            print('License terms')\n",
    "            hash = hashlib.md5(response.content).hexdigest()\n",
    "            params = params + (('license-md5', hash),)\n",
    "            try:\n",
    "                response = requests.get('https://www.movebank.org/movebank/service/direct-read', params=params, cookies=response.cookies, auth=mbauth, timeout=(3.05, 21))\n",
    "            except:\n",
    "                print(f'Exception occured for params:\\n{params}')\n",
    "                return 'ERR'\n",
    "            if response.status_code == 403:  # incorrect hash\n",
    "                print(\"Incorrect hash\")\n",
    "                return ''\n",
    "        return response.content.decode('utf-8')\n",
    "    print(str(response.content))\n",
    "    return 'ERR'"
   ]
  },
  {
   "cell_type": "markdown",
   "metadata": {},
   "source": [
    "### __getStudies__: Function to get all records of all studies\n",
    "#### Returns:\n",
    "List of OrderedDicts, each containing one record"
   ]
  },
  {
   "cell_type": "code",
   "execution_count": 29,
   "metadata": {},
   "outputs": [],
   "source": [
    "def getStudies():\n",
    "\tstudies = callMovebankAPI((('entity_type', 'study'), ('i_can_see_data', 'true'), ('there_are_data_which_i_cannot_see', 'false')))\n",
    "\tif studies != 'ERR' and len(studies) > 0:\n",
    "\t\tstudies = csv.DictReader(io.StringIO(studies), delimiter=',')\n",
    "\t\treturn [s for s in studies if s['i_can_see_data'] == 'true' and s['there_are_data_which_i_cannot_see'] == 'false']\n",
    "\treturn []"
   ]
  },
  {
   "cell_type": "markdown",
   "metadata": {},
   "source": [
    "### __getStudyIndividuals__: Function to get records of all individuals from a particular study\n",
    "#### Parameters:\n",
    "1. `study_id`\n",
    "\n",
    "#### Returns:\n",
    "List of OrderedDicts, each containing one record"
   ]
  },
  {
   "cell_type": "code",
   "execution_count": 30,
   "metadata": {},
   "outputs": [],
   "source": [
    "def getStudyIndividuals(study_id):\n",
    "    individuals = callMovebankAPI((('entity_type', 'individual'),('study_id', study_id)))\n",
    "    if individuals != 'ERR' and len(individuals) > 0:\n",
    "        return list(csv.DictReader(io.StringIO(individuals), delimiter=','))\n",
    "    return []"
   ]
  },
  {
   "cell_type": "markdown",
   "metadata": {},
   "source": [
    "### __getEventsOfIndividual__: Function to get records of all events related to one particular individual from one particular study\n",
    "#### Parameters:\n",
    "1. `study_id`\n",
    "2. `individual_id`\n",
    "\n",
    "#### Returns:\n",
    "List of OrderedDicts, each containing one record"
   ]
  },
  {
   "cell_type": "code",
   "execution_count": 31,
   "metadata": {},
   "outputs": [],
   "source": [
    "def getEventsOfIndividual(study_id, individual_id):\n",
    "\n",
    "    params = (('entity_type', 'event'), ('study_id', study_id),\n",
    "              ('individual_id', individual_id))\n",
    "    events = callMovebankAPI(params)\n",
    "    if events != 'ERR' and len(events) > 0:\n",
    "        return list(csv.DictReader(io.StringIO(events), delimiter=','))\n",
    "    return []"
   ]
  },
  {
   "cell_type": "markdown",
   "metadata": {},
   "source": [
    "### __getEventsOfStudy__: Function to get records of all events of a particular study\n",
    "#### Parameters:\n",
    "1. `study_id`\n",
    "\n",
    "#### Returns:\n",
    "List of OrderedDicts, each containing one record"
   ]
  },
  {
   "cell_type": "code",
   "execution_count": 56,
   "metadata": {},
   "outputs": [],
   "source": [
    "def getEventsOfStudy(study_id):\n",
    "\n",
    "    params = (('entity_type', 'event'), ('study_id', study_id))\n",
    "    events = callMovebankAPI(params)\n",
    "    print('Event string:', events[:100])\n",
    "    if events != 'ERR' and len(events) > 0:\n",
    "        return list(csv.DictReader(io.StringIO(events), delimiter=','))\n",
    "    print(f'ERR for {study_id}')\n",
    "    return []"
   ]
  },
  {
   "cell_type": "code",
   "execution_count": null,
   "metadata": {},
   "outputs": [],
   "source": [
    "studies = pd.DataFrame(getStudies())"
   ]
  },
  {
   "cell_type": "code",
   "execution_count": 36,
   "metadata": {},
   "outputs": [
    {
     "data": {
      "text/html": [
       "<div>\n",
       "<style scoped>\n",
       "    .dataframe tbody tr th:only-of-type {\n",
       "        vertical-align: middle;\n",
       "    }\n",
       "\n",
       "    .dataframe tbody tr th {\n",
       "        vertical-align: top;\n",
       "    }\n",
       "\n",
       "    .dataframe thead th {\n",
       "        text-align: right;\n",
       "    }\n",
       "</style>\n",
       "<table border=\"1\" class=\"dataframe\">\n",
       "  <thead>\n",
       "    <tr style=\"text-align: right;\">\n",
       "      <th></th>\n",
       "      <th>id</th>\n",
       "      <th>acknowledgements</th>\n",
       "      <th>taxon_ids</th>\n",
       "      <th>sensor_type_ids</th>\n",
       "      <th>number_of_individuals</th>\n",
       "    </tr>\n",
       "  </thead>\n",
       "  <tbody>\n",
       "    <tr>\n",
       "      <th>0</th>\n",
       "      <td>7006760</td>\n",
       "      <td></td>\n",
       "      <td></td>\n",
       "      <td>Argos Doppler Shift</td>\n",
       "      <td>244</td>\n",
       "    </tr>\n",
       "    <tr>\n",
       "      <th>1</th>\n",
       "      <td>5636685</td>\n",
       "      <td>Julius Morkunas (captures, logistics, surgerie...</td>\n",
       "      <td>Gavia stellata,Clangula hyemalis,Melanitta fusca</td>\n",
       "      <td>Argos Doppler Shift</td>\n",
       "      <td>17</td>\n",
       "    </tr>\n",
       "    <tr>\n",
       "      <th>2</th>\n",
       "      <td>910184675</td>\n",
       "      <td></td>\n",
       "      <td></td>\n",
       "      <td></td>\n",
       "      <td></td>\n",
       "    </tr>\n",
       "    <tr>\n",
       "      <th>3</th>\n",
       "      <td>74496970</td>\n",
       "      <td></td>\n",
       "      <td>Ciconia ciconia</td>\n",
       "      <td>GPS,Acceleration</td>\n",
       "      <td>72</td>\n",
       "    </tr>\n",
       "    <tr>\n",
       "      <th>4</th>\n",
       "      <td>492670611</td>\n",
       "      <td></td>\n",
       "      <td>Cygnus columbianus,Anser albifrons,Anser fabal...</td>\n",
       "      <td>GPS</td>\n",
       "      <td>228</td>\n",
       "    </tr>\n",
       "  </tbody>\n",
       "</table>\n",
       "</div>"
      ],
      "text/plain": [
       "          id                                   acknowledgements  \\\n",
       "0    7006760                                                      \n",
       "1    5636685  Julius Morkunas (captures, logistics, surgerie...   \n",
       "2  910184675                                                      \n",
       "3   74496970                                                      \n",
       "4  492670611                                                      \n",
       "\n",
       "                                           taxon_ids      sensor_type_ids  \\\n",
       "0                                                     Argos Doppler Shift   \n",
       "1   Gavia stellata,Clangula hyemalis,Melanitta fusca  Argos Doppler Shift   \n",
       "2                                                                           \n",
       "3                                    Ciconia ciconia     GPS,Acceleration   \n",
       "4  Cygnus columbianus,Anser albifrons,Anser fabal...                  GPS   \n",
       "\n",
       "  number_of_individuals  \n",
       "0                   244  \n",
       "1                    17  \n",
       "2                        \n",
       "3                    72  \n",
       "4                   228  "
      ]
     },
     "execution_count": 36,
     "metadata": {},
     "output_type": "execute_result"
    }
   ],
   "source": [
    "studies = studies[['id', 'acknowledgements', 'taxon_ids', 'sensor_type_ids', 'number_of_individuals']]\n",
    "studies.head()"
   ]
  },
  {
   "cell_type": "code",
   "execution_count": 37,
   "metadata": {},
   "outputs": [
    {
     "name": "stdout",
     "output_type": "stream",
     "text": [
      "688\n"
     ]
    }
   ],
   "source": [
    "main_table = studies['id'].copy()\n",
    "print(len(main_table))"
   ]
  },
  {
   "cell_type": "code",
   "execution_count": null,
   "metadata": {},
   "outputs": [],
   "source": [
    "individual_dicts = []\n",
    "for i in [i for i in main_table][:50]:\n",
    "    response = getStudyIndividuals(i)\n",
    "    for d in response:\n",
    "        d['study_id'] = i\n",
    "    individual_dicts += response\n",
    "individuals_table = pd.DataFrame(individual_dicts)[['study_id', 'id', 'taxon_canonical_name', 'sex']]\n",
    "individuals_table.head()"
   ]
  },
  {
   "cell_type": "code",
   "execution_count": 79,
   "metadata": {},
   "outputs": [
    {
     "data": {
      "text/html": [
       "<div>\n",
       "<style scoped>\n",
       "    .dataframe tbody tr th:only-of-type {\n",
       "        vertical-align: middle;\n",
       "    }\n",
       "\n",
       "    .dataframe tbody tr th {\n",
       "        vertical-align: top;\n",
       "    }\n",
       "\n",
       "    .dataframe thead th {\n",
       "        text-align: right;\n",
       "    }\n",
       "</style>\n",
       "<table border=\"1\" class=\"dataframe\">\n",
       "  <thead>\n",
       "    <tr style=\"text-align: right;\">\n",
       "      <th></th>\n",
       "      <th>study_id</th>\n",
       "      <th>individual_id</th>\n",
       "      <th>taxon_canonical_name</th>\n",
       "      <th>sex</th>\n",
       "    </tr>\n",
       "  </thead>\n",
       "  <tbody>\n",
       "    <tr>\n",
       "      <th>0</th>\n",
       "      <td>74496970</td>\n",
       "      <td>75618402</td>\n",
       "      <td>Ciconia ciconia</td>\n",
       "      <td></td>\n",
       "    </tr>\n",
       "    <tr>\n",
       "      <th>1</th>\n",
       "      <td>74496970</td>\n",
       "      <td>75618403</td>\n",
       "      <td>Ciconia ciconia</td>\n",
       "      <td></td>\n",
       "    </tr>\n",
       "    <tr>\n",
       "      <th>2</th>\n",
       "      <td>74496970</td>\n",
       "      <td>75618404</td>\n",
       "      <td>Ciconia ciconia</td>\n",
       "      <td></td>\n",
       "    </tr>\n",
       "    <tr>\n",
       "      <th>3</th>\n",
       "      <td>74496970</td>\n",
       "      <td>75618405</td>\n",
       "      <td>Ciconia ciconia</td>\n",
       "      <td></td>\n",
       "    </tr>\n",
       "    <tr>\n",
       "      <th>4</th>\n",
       "      <td>74496970</td>\n",
       "      <td>75618406</td>\n",
       "      <td>Ciconia ciconia</td>\n",
       "      <td></td>\n",
       "    </tr>\n",
       "  </tbody>\n",
       "</table>\n",
       "</div>"
      ],
      "text/plain": [
       "   study_id individual_id taxon_canonical_name sex\n",
       "0  74496970      75618402      Ciconia ciconia    \n",
       "1  74496970      75618403      Ciconia ciconia    \n",
       "2  74496970      75618404      Ciconia ciconia    \n",
       "3  74496970      75618405      Ciconia ciconia    \n",
       "4  74496970      75618406      Ciconia ciconia    "
      ]
     },
     "execution_count": 79,
     "metadata": {},
     "output_type": "execute_result"
    }
   ],
   "source": [
    "individuals_table = individuals_table.rename(columns={'id': 'individual_id'})\n",
    "individuals_table.head()"
   ]
  },
  {
   "cell_type": "code",
   "execution_count": null,
   "metadata": {},
   "outputs": [],
   "source": [
    "event_dicts = []\n",
    "for i in [i for i in main_table][:50]:\n",
    "    response = getEventsOfStudy(i)\n",
    "    for d in response:\n",
    "        d['study_id'] = i\n",
    "    event_dicts += response\n",
    "events_table = pd.DataFrame(event_dicts)"
   ]
  },
  {
   "cell_type": "code",
   "execution_count": 81,
   "metadata": {},
   "outputs": [
    {
     "data": {
      "text/html": [
       "<div>\n",
       "<style scoped>\n",
       "    .dataframe tbody tr th:only-of-type {\n",
       "        vertical-align: middle;\n",
       "    }\n",
       "\n",
       "    .dataframe tbody tr th {\n",
       "        vertical-align: top;\n",
       "    }\n",
       "\n",
       "    .dataframe thead th {\n",
       "        text-align: right;\n",
       "    }\n",
       "</style>\n",
       "<table border=\"1\" class=\"dataframe\">\n",
       "  <thead>\n",
       "    <tr style=\"text-align: right;\">\n",
       "      <th></th>\n",
       "      <th>timestamp</th>\n",
       "      <th>location_lat</th>\n",
       "      <th>location_long</th>\n",
       "      <th>individual_id</th>\n",
       "      <th>study_id</th>\n",
       "    </tr>\n",
       "  </thead>\n",
       "  <tbody>\n",
       "    <tr>\n",
       "      <th>0</th>\n",
       "      <td>2006-03-22 05:00:00.000</td>\n",
       "      <td>51.828</td>\n",
       "      <td>5.2705</td>\n",
       "      <td>133992600</td>\n",
       "      <td>133992043</td>\n",
       "    </tr>\n",
       "    <tr>\n",
       "      <th>1</th>\n",
       "      <td>2006-03-22 07:00:00.000</td>\n",
       "      <td>51.83683</td>\n",
       "      <td>6.16433</td>\n",
       "      <td>133992600</td>\n",
       "      <td>133992043</td>\n",
       "    </tr>\n",
       "    <tr>\n",
       "      <th>2</th>\n",
       "      <td>2006-03-22 09:00:00.000</td>\n",
       "      <td>51.96417</td>\n",
       "      <td>7.72917</td>\n",
       "      <td>133992600</td>\n",
       "      <td>133992043</td>\n",
       "    </tr>\n",
       "    <tr>\n",
       "      <th>3</th>\n",
       "      <td>2006-03-22 11:00:00.000</td>\n",
       "      <td>52.1975</td>\n",
       "      <td>9.39417</td>\n",
       "      <td>133992600</td>\n",
       "      <td>133992043</td>\n",
       "    </tr>\n",
       "    <tr>\n",
       "      <th>4</th>\n",
       "      <td>2006-03-22 13:00:00.000</td>\n",
       "      <td>52.37667</td>\n",
       "      <td>11.25267</td>\n",
       "      <td>133992600</td>\n",
       "      <td>133992043</td>\n",
       "    </tr>\n",
       "  </tbody>\n",
       "</table>\n",
       "</div>"
      ],
      "text/plain": [
       "                 timestamp location_lat location_long individual_id   study_id\n",
       "0  2006-03-22 05:00:00.000       51.828        5.2705     133992600  133992043\n",
       "1  2006-03-22 07:00:00.000     51.83683       6.16433     133992600  133992043\n",
       "2  2006-03-22 09:00:00.000     51.96417       7.72917     133992600  133992043\n",
       "3  2006-03-22 11:00:00.000      52.1975       9.39417     133992600  133992043\n",
       "4  2006-03-22 13:00:00.000     52.37667      11.25267     133992600  133992043"
      ]
     },
     "execution_count": 81,
     "metadata": {},
     "output_type": "execute_result"
    }
   ],
   "source": [
    "events_table = events_table.drop(columns=['tag_id'])\n",
    "events_table.head()"
   ]
  },
  {
   "cell_type": "code",
   "execution_count": 83,
   "metadata": {},
   "outputs": [
    {
     "data": {
      "text/html": [
       "<div>\n",
       "<style scoped>\n",
       "    .dataframe tbody tr th:only-of-type {\n",
       "        vertical-align: middle;\n",
       "    }\n",
       "\n",
       "    .dataframe tbody tr th {\n",
       "        vertical-align: top;\n",
       "    }\n",
       "\n",
       "    .dataframe thead th {\n",
       "        text-align: right;\n",
       "    }\n",
       "</style>\n",
       "<table border=\"1\" class=\"dataframe\">\n",
       "  <thead>\n",
       "    <tr style=\"text-align: right;\">\n",
       "      <th></th>\n",
       "      <th>study_id</th>\n",
       "      <th>individual_id</th>\n",
       "      <th>taxon_canonical_name</th>\n",
       "      <th>sex</th>\n",
       "      <th>timestamp</th>\n",
       "      <th>location_lat</th>\n",
       "      <th>location_long</th>\n",
       "    </tr>\n",
       "  </thead>\n",
       "  <tbody>\n",
       "    <tr>\n",
       "      <th>509863</th>\n",
       "      <td>66480086</td>\n",
       "      <td>66485643</td>\n",
       "      <td>Limosa limosa</td>\n",
       "      <td>f</td>\n",
       "      <td>2014-05-30 03:21:39.000</td>\n",
       "      <td>52.635</td>\n",
       "      <td>5.109</td>\n",
       "    </tr>\n",
       "    <tr>\n",
       "      <th>509864</th>\n",
       "      <td>66480086</td>\n",
       "      <td>66485643</td>\n",
       "      <td>Limosa limosa</td>\n",
       "      <td>f</td>\n",
       "      <td>2014-05-30 04:24:54.000</td>\n",
       "      <td>52.635</td>\n",
       "      <td>5.11</td>\n",
       "    </tr>\n",
       "    <tr>\n",
       "      <th>509865</th>\n",
       "      <td>66480086</td>\n",
       "      <td>66485643</td>\n",
       "      <td>Limosa limosa</td>\n",
       "      <td>f</td>\n",
       "      <td>2014-05-30 04:46:03.000</td>\n",
       "      <td>52.615</td>\n",
       "      <td>5.05</td>\n",
       "    </tr>\n",
       "    <tr>\n",
       "      <th>509866</th>\n",
       "      <td>66480086</td>\n",
       "      <td>66485643</td>\n",
       "      <td>Limosa limosa</td>\n",
       "      <td>f</td>\n",
       "      <td>2014-05-30 05:27:22.000</td>\n",
       "      <td>52.641</td>\n",
       "      <td>5.068</td>\n",
       "    </tr>\n",
       "    <tr>\n",
       "      <th>509867</th>\n",
       "      <td>66480086</td>\n",
       "      <td>66485643</td>\n",
       "      <td>Limosa limosa</td>\n",
       "      <td>f</td>\n",
       "      <td>2014-05-30 05:27:22.000</td>\n",
       "      <td>52.639</td>\n",
       "      <td>5.082</td>\n",
       "    </tr>\n",
       "  </tbody>\n",
       "</table>\n",
       "</div>"
      ],
      "text/plain": [
       "        study_id individual_id taxon_canonical_name sex  \\\n",
       "509863  66480086      66485643        Limosa limosa   f   \n",
       "509864  66480086      66485643        Limosa limosa   f   \n",
       "509865  66480086      66485643        Limosa limosa   f   \n",
       "509866  66480086      66485643        Limosa limosa   f   \n",
       "509867  66480086      66485643        Limosa limosa   f   \n",
       "\n",
       "                      timestamp location_lat location_long  \n",
       "509863  2014-05-30 03:21:39.000       52.635         5.109  \n",
       "509864  2014-05-30 04:24:54.000       52.635          5.11  \n",
       "509865  2014-05-30 04:46:03.000       52.615          5.05  \n",
       "509866  2014-05-30 05:27:22.000       52.641         5.068  \n",
       "509867  2014-05-30 05:27:22.000       52.639         5.082  "
      ]
     },
     "execution_count": 83,
     "metadata": {},
     "output_type": "execute_result"
    }
   ],
   "source": [
    "main_table_df = pd.merge(individuals_table, events_table, how='inner', on=['study_id', 'individual_id'])\n",
    "main_table_df.tail()"
   ]
  },
  {
   "cell_type": "code",
   "execution_count": 89,
   "metadata": {},
   "outputs": [],
   "source": [
    "main_table_df.to_csv('Data_Collected_1.csv')"
   ]
  },
  {
   "cell_type": "code",
   "execution_count": 101,
   "metadata": {},
   "outputs": [],
   "source": [
    "with open('study_ids_done.p', 'wb') as f:\n",
    "    pickle.dump(main_table[:50], f)\n",
    "main_table[:50].to_csv('study_ids_done.csv')"
   ]
  },
  {
   "cell_type": "code",
   "execution_count": 102,
   "metadata": {},
   "outputs": [],
   "source": [
    "with open('all_study_ids.p', 'wb') as f:\n",
    "    pickle.dump(main_table, f)\n",
    "main_table.to_csv('all_study_ids.csv')"
   ]
  }
 ],
 "metadata": {
  "kernelspec": {
   "display_name": "Python 3",
   "language": "python",
   "name": "python3"
  },
  "language_info": {
   "codemirror_mode": {
    "name": "ipython",
    "version": 3
   },
   "file_extension": ".py",
   "mimetype": "text/x-python",
   "name": "python",
   "nbconvert_exporter": "python",
   "pygments_lexer": "ipython3",
   "version": "3.6.9"
  }
 },
 "nbformat": 4,
 "nbformat_minor": 4
}
